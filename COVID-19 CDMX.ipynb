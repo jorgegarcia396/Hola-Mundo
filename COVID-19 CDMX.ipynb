{
 "cells": [
  {
   "cell_type": "code",
   "execution_count": 8,
   "metadata": {},
   "outputs": [],
   "source": [
    "import pandas as pd\n",
    "import numpy as np\n",
    "import matplotlib.pyplot as plt"
   ]
  },
  {
   "cell_type": "code",
   "execution_count": 9,
   "metadata": {},
   "outputs": [],
   "source": [
    "data = pd.read_csv(\"personas-hospitalizadas-covid19.csv\")"
   ]
  },
  {
   "cell_type": "code",
   "execution_count": 10,
   "metadata": {},
   "outputs": [
    {
     "data": {
      "text/html": [
       "<div>\n",
       "<style scoped>\n",
       "    .dataframe tbody tr th:only-of-type {\n",
       "        vertical-align: middle;\n",
       "    }\n",
       "\n",
       "    .dataframe tbody tr th {\n",
       "        vertical-align: top;\n",
       "    }\n",
       "\n",
       "    .dataframe thead th {\n",
       "        text-align: right;\n",
       "    }\n",
       "</style>\n",
       "<table border=\"1\" class=\"dataframe\">\n",
       "  <thead>\n",
       "    <tr style=\"text-align: right;\">\n",
       "      <th></th>\n",
       "      <th>fecha</th>\n",
       "      <th>año</th>\n",
       "      <th>mes</th>\n",
       "      <th>dia</th>\n",
       "      <th>hospitalizados_totales</th>\n",
       "      <th>hospitalizados_totales_cdmx</th>\n",
       "      <th>hospitalizados_totales_edomex</th>\n",
       "      <th>camas_intubados_totales</th>\n",
       "      <th>camas_intubados_cdmx</th>\n",
       "      <th>camas_intubados_edomex</th>\n",
       "    </tr>\n",
       "  </thead>\n",
       "  <tbody>\n",
       "    <tr>\n",
       "      <td>0</td>\n",
       "      <td>2020-03-24</td>\n",
       "      <td>2020</td>\n",
       "      <td>marzo</td>\n",
       "      <td>24</td>\n",
       "      <td>50</td>\n",
       "      <td>50</td>\n",
       "      <td>0</td>\n",
       "      <td>39</td>\n",
       "      <td>39</td>\n",
       "      <td>0</td>\n",
       "    </tr>\n",
       "    <tr>\n",
       "      <td>1</td>\n",
       "      <td>2020-03-29</td>\n",
       "      <td>2020</td>\n",
       "      <td>marzo</td>\n",
       "      <td>29</td>\n",
       "      <td>258</td>\n",
       "      <td>258</td>\n",
       "      <td>0</td>\n",
       "      <td>84</td>\n",
       "      <td>84</td>\n",
       "      <td>0</td>\n",
       "    </tr>\n",
       "    <tr>\n",
       "      <td>2</td>\n",
       "      <td>2020-03-30</td>\n",
       "      <td>2020</td>\n",
       "      <td>marzo</td>\n",
       "      <td>30</td>\n",
       "      <td>324</td>\n",
       "      <td>301</td>\n",
       "      <td>23</td>\n",
       "      <td>109</td>\n",
       "      <td>104</td>\n",
       "      <td>5</td>\n",
       "    </tr>\n",
       "    <tr>\n",
       "      <td>3</td>\n",
       "      <td>2020-03-31</td>\n",
       "      <td>2020</td>\n",
       "      <td>marzo</td>\n",
       "      <td>31</td>\n",
       "      <td>328</td>\n",
       "      <td>313</td>\n",
       "      <td>15</td>\n",
       "      <td>122</td>\n",
       "      <td>118</td>\n",
       "      <td>4</td>\n",
       "    </tr>\n",
       "    <tr>\n",
       "      <td>4</td>\n",
       "      <td>2020-04-02</td>\n",
       "      <td>2020</td>\n",
       "      <td>abril</td>\n",
       "      <td>2</td>\n",
       "      <td>393</td>\n",
       "      <td>361</td>\n",
       "      <td>32</td>\n",
       "      <td>143</td>\n",
       "      <td>136</td>\n",
       "      <td>7</td>\n",
       "    </tr>\n",
       "  </tbody>\n",
       "</table>\n",
       "</div>"
      ],
      "text/plain": [
       "        fecha   año    mes  dia  hospitalizados_totales  \\\n",
       "0  2020-03-24  2020  marzo   24                      50   \n",
       "1  2020-03-29  2020  marzo   29                     258   \n",
       "2  2020-03-30  2020  marzo   30                     324   \n",
       "3  2020-03-31  2020  marzo   31                     328   \n",
       "4  2020-04-02  2020  abril    2                     393   \n",
       "\n",
       "   hospitalizados_totales_cdmx  hospitalizados_totales_edomex  \\\n",
       "0                           50                              0   \n",
       "1                          258                              0   \n",
       "2                          301                             23   \n",
       "3                          313                             15   \n",
       "4                          361                             32   \n",
       "\n",
       "   camas_intubados_totales  camas_intubados_cdmx  camas_intubados_edomex  \n",
       "0                       39                    39                       0  \n",
       "1                       84                    84                       0  \n",
       "2                      109                   104                       5  \n",
       "3                      122                   118                       4  \n",
       "4                      143                   136                       7  "
      ]
     },
     "execution_count": 10,
     "metadata": {},
     "output_type": "execute_result"
    }
   ],
   "source": [
    "data.head()"
   ]
  },
  {
   "cell_type": "code",
   "execution_count": 36,
   "metadata": {},
   "outputs": [],
   "source": [
    "df=data[[\"fecha\",\"hospitalizados_totales_cdmx\",\"camas_intubados_cdmx\"]].set_index(\"fecha\").sort_values(\"fecha\",ascending=False)"
   ]
  },
  {
   "cell_type": "code",
   "execution_count": 37,
   "metadata": {},
   "outputs": [
    {
     "data": {
      "text/html": [
       "<div>\n",
       "<style scoped>\n",
       "    .dataframe tbody tr th:only-of-type {\n",
       "        vertical-align: middle;\n",
       "    }\n",
       "\n",
       "    .dataframe tbody tr th {\n",
       "        vertical-align: top;\n",
       "    }\n",
       "\n",
       "    .dataframe thead th {\n",
       "        text-align: right;\n",
       "    }\n",
       "</style>\n",
       "<table border=\"1\" class=\"dataframe\">\n",
       "  <thead>\n",
       "    <tr style=\"text-align: right;\">\n",
       "      <th></th>\n",
       "      <th>hospitalizados_totales_cdmx</th>\n",
       "      <th>camas_intubados_cdmx</th>\n",
       "    </tr>\n",
       "    <tr>\n",
       "      <th>fecha</th>\n",
       "      <th></th>\n",
       "      <th></th>\n",
       "    </tr>\n",
       "  </thead>\n",
       "  <tbody>\n",
       "    <tr>\n",
       "      <td>2020-06-28</td>\n",
       "      <td>3780</td>\n",
       "      <td>958</td>\n",
       "    </tr>\n",
       "    <tr>\n",
       "      <td>2020-06-27</td>\n",
       "      <td>3806</td>\n",
       "      <td>941</td>\n",
       "    </tr>\n",
       "    <tr>\n",
       "      <td>2020-06-26</td>\n",
       "      <td>3845</td>\n",
       "      <td>927</td>\n",
       "    </tr>\n",
       "    <tr>\n",
       "      <td>2020-06-25</td>\n",
       "      <td>3908</td>\n",
       "      <td>935</td>\n",
       "    </tr>\n",
       "    <tr>\n",
       "      <td>2020-06-24</td>\n",
       "      <td>3910</td>\n",
       "      <td>913</td>\n",
       "    </tr>\n",
       "  </tbody>\n",
       "</table>\n",
       "</div>"
      ],
      "text/plain": [
       "            hospitalizados_totales_cdmx  camas_intubados_cdmx\n",
       "fecha                                                        \n",
       "2020-06-28                         3780                   958\n",
       "2020-06-27                         3806                   941\n",
       "2020-06-26                         3845                   927\n",
       "2020-06-25                         3908                   935\n",
       "2020-06-24                         3910                   913"
      ]
     },
     "execution_count": 37,
     "metadata": {},
     "output_type": "execute_result"
    }
   ],
   "source": [
    "df.head()"
   ]
  },
  {
   "cell_type": "code",
   "execution_count": 38,
   "metadata": {},
   "outputs": [
    {
     "data": {
      "text/plain": [
       "<matplotlib.axes._subplots.AxesSubplot at 0x7fd91cd9da50>"
      ]
     },
     "execution_count": 38,
     "metadata": {},
     "output_type": "execute_result"
    },
    {
     "data": {
      "image/png": "[encoded data removed]",
      "text/plain": [
       "<Figure size 1440x1440 with 1 Axes>"
      ]
     },
     "metadata": {
      "needs_background": "light"
     },
     "output_type": "display_data"
    }
   ],
   "source": [
    "df.plot.bar(figsize=(20,20))"
   ]
  },
  {
   "cell_type": "code",
   "execution_count": null,
   "metadata": {},
   "outputs": [],
   "source": []
  }
 ],
 "metadata": {
  "kernelspec": {
   "display_name": "Python 3",
   "language": "python",
   "name": "python3"
  },
  "language_info": {
   "codemirror_mode": {
    "name": "ipython",
    "version": 3
   },
   "file_extension": ".py",
   "mimetype": "text/x-python",
   "name": "python",
   "nbconvert_exporter": "python",
   "pygments_lexer": "ipython3",
   "version": "3.7.4"
  }
 },
 "nbformat": 4,
 "nbformat_minor": 2
}
